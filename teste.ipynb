{
 "cells": [
  {
   "cell_type": "markdown",
   "id": "41852cfe",
   "metadata": {},
   "source": [
    "# Step 1 - Calculations"
   ]
  },
  {
   "cell_type": "markdown",
   "id": "4c6fe41b",
   "metadata": {},
   "source": [
    "#import packpages"
   ]
  },
  {
   "cell_type": "code",
   "execution_count": 16,
   "id": "ee1dd106",
   "metadata": {},
   "outputs": [],
   "source": [
    "import math as m\n",
    "import cmath\n",
    "import matplotlib.pyplot as plt\n",
    "import numpy as np\n",
    "import matplotlib.ticker\n",
    "import pandas as pd\n",
    "from mpl_toolkits.mplot3d import Axes3D\n",
    "from matplotlib import cm"
   ]
  },
  {
   "cell_type": "markdown",
   "id": "00f97691",
   "metadata": {},
   "source": [
    "# 1.1 - Standard Model Parameters"
   ]
  },
  {
   "cell_type": "markdown",
   "id": "64799d62",
   "metadata": {},
   "source": [
    "#Mixing angles and CPT phase"
   ]
  },
  {
   "cell_type": "code",
   "execution_count": 17,
   "id": "ae9653b4",
   "metadata": {},
   "outputs": [],
   "source": [
    "pi = m.pi\n",
    "theta12 = (pi * 34.3) / 180\n",
    "theta13 = (pi * 8.53) / 180\n",
    "theta23 = (pi * 49.26) / 180\n",
    "cptphase = (pi * 194) / 180"
   ]
  },
  {
   "cell_type": "markdown",
   "id": "2b9ac27d",
   "metadata": {},
   "source": [
    "#Squared mass difference"
   ]
  },
  {
   "cell_type": "code",
   "execution_count": 18,
   "id": "f854e09b",
   "metadata": {},
   "outputs": [],
   "source": [
    "Deltam21 = 7.50e-5\n",
    "Deltam31 = 2.55e-3\n",
    "Deltam32 = Deltam21+Deltam31"
   ]
  },
  {
   "cell_type": "markdown",
   "id": "10845cc1",
   "metadata": {},
   "source": [
    "#experiment baseline [km]"
   ]
  },
  {
   "cell_type": "code",
   "execution_count": 19,
   "id": "d1cd9256",
   "metadata": {},
   "outputs": [],
   "source": [
    "baseline = 1300"
   ]
  },
  {
   "cell_type": "markdown",
   "id": "9f016e11",
   "metadata": {},
   "source": [
    "#Flavour oscilattion (va -> vb) (0 = e, 1 = muon, 2 = tau)"
   ]
  },
  {
   "cell_type": "code",
   "execution_count": 20,
   "id": "8982d486",
   "metadata": {},
   "outputs": [],
   "source": [
    "a = 1\n",
    "b = 1"
   ]
  }
 ],
 "metadata": {
  "kernelspec": {
   "display_name": "Python 3 (ipykernel)",
   "language": "python",
   "name": "python3"
  },
  "language_info": {
   "codemirror_mode": {
    "name": "ipython",
    "version": 3
   },
   "file_extension": ".py",
   "mimetype": "text/x-python",
   "name": "python",
   "nbconvert_exporter": "python",
   "pygments_lexer": "ipython3",
   "version": "3.9.7"
  }
 },
 "nbformat": 4,
 "nbformat_minor": 5
}
