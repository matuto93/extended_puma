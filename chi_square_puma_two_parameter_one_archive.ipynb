{
 "cells": [
  {
   "cell_type": "markdown",
   "id": "9fc5c319",
   "metadata": {},
   "source": [
    "# Step 1 - Calculations"
   ]
  },
  {
   "cell_type": "markdown",
   "id": "1c81e069",
   "metadata": {},
   "source": [
    "#import packpages"
   ]
  },
  {
   "cell_type": "code",
   "execution_count": null,
   "id": "ee1dd106",
   "metadata": {},
   "outputs": [],
   "source": [
    "import math as m\n",
    "import cmath\n",
    "import matplotlib.pyplot as plt\n",
    "import numpy as np\n",
    "import matplotlib.ticker\n",
    "import pandas as pd\n",
    "from mpl_toolkits.mplot3d import Axes3D\n",
    "from matplotlib import cm\n",
    "plt.rcParams['text.usetex'] = True\n",
    "\n",
    "import scipy.interpolate as interp"
   ]
  },
  {
   "cell_type": "markdown",
   "id": "b8761317",
   "metadata": {},
   "source": [
    "# 1.1 - Standard Model Parameters"
   ]
  },
  {
   "cell_type": "markdown",
   "id": "5ad71d8c",
   "metadata": {},
   "source": [
    "Mixing angles and CPT phase"
   ]
  },
  {
   "cell_type": "code",
   "execution_count": null,
   "id": "bfc8f66e",
   "metadata": {},
   "outputs": [],
   "source": [
    "pi = m.pi\n",
    "theta12 = (pi * 34.3) / 180\n",
    "theta13 = (pi * 8.53) / 180\n",
    "theta23 = (pi * 49.26) / 180\n",
    "cptphase = (pi * 194) / 180"
   ]
  },
  {
   "cell_type": "markdown",
   "id": "9e9072d5",
   "metadata": {},
   "source": [
    "Squared mass difference"
   ]
  },
  {
   "cell_type": "code",
   "execution_count": null,
   "id": "0dbc86da",
   "metadata": {},
   "outputs": [],
   "source": [
    "Deltam21 = 7.50e-5\n",
    "Deltam31 = 2.55e-3\n",
    "Deltam32 = Deltam21+Deltam31"
   ]
  },
  {
   "cell_type": "markdown",
   "id": "8e739eb5",
   "metadata": {},
   "source": [
    "Experiment baseline [km]"
   ]
  },
  {
   "cell_type": "code",
   "execution_count": null,
   "id": "86766f7b",
   "metadata": {},
   "outputs": [],
   "source": [
    "baseline = 1300"
   ]
  },
  {
   "cell_type": "markdown",
   "id": "6543f247",
   "metadata": {},
   "source": [
    "Flavour oscilattion (va -> vb) (0 = e, 1 = muon, 2 = tau)"
   ]
  },
  {
   "cell_type": "code",
   "execution_count": null,
   "id": "d63b3e67",
   "metadata": {},
   "outputs": [],
   "source": [
    "a = 1\n",
    "b = 1"
   ]
  },
  {
   "cell_type": "markdown",
   "id": "7a94d9aa",
   "metadata": {},
   "source": [
    "Mixing matrix calculation"
   ]
  },
  {
   "cell_type": "code",
   "execution_count": null,
   "id": "9836f8b5",
   "metadata": {},
   "outputs": [],
   "source": [
    "mixing_matrix_SM =  np.array([[np.cos(theta12) * np.cos(theta13),    np.sin(theta12)*np.cos(theta13),    np.sin(theta13)*cmath.exp(-cptphase * 1j)],\n",
    "                     [-np.sin(theta12)*np.cos(theta23)-np.cos(theta12)*np.sin(theta23)*np.sin(theta13)*cmath.exp(cptphase * 1j),     np.cos(theta12)*np.cos(theta23)-np.sin(theta12)*np.sin(theta23)*np.sin(theta13)*cmath.exp(cptphase * 1j),   np.sin(theta23)*np.cos(theta13)],\n",
    "                     [np.sin(theta12)*np.cos(theta23)-np.cos(theta12)*np.cos(theta23)*np.sin(theta13)*cmath.exp(cptphase * 1j),     -np.cos(theta12)*np.sin(theta23)-np.sin(theta12)*np.cos(theta23)*np.sin(theta13)*cmath.exp(cptphase * 1j),   np.cos(theta23)*np.cos(theta13)]], dtype = complex)\n",
    "                     \n",
    "\n",
    "mass_matrix_SM =  np.array([[0,     Deltam21,   Deltam31],\n",
    "                            [Deltam21,     0 ,  Deltam32],\n",
    "                            [Deltam31,  Deltam32,      0]])"
   ]
  },
  {
   "cell_type": "code",
   "execution_count": null,
   "id": "784deb18",
   "metadata": {},
   "outputs": [],
   "source": [
    "#kronecker delta\n",
    "if a == b:\n",
    "    kdelta = 1\n",
    "else:\n",
    "    kdelta = 0"
   ]
  },
  {
   "cell_type": "markdown",
   "id": "01d876b8",
   "metadata": {},
   "source": [
    "# 1.2 - Puma Model Parameters\n"
   ]
  },
  {
   "cell_type": "code",
   "execution_count": null,
   "id": "520c9851",
   "metadata": {},
   "outputs": [],
   "source": [
    "#unit correction\n",
    "factor = 5.07e18\n",
    "#ap = -2.5e-19\n",
    "#cp = 1.0e-16\n",
    "m2 = 2.6e-23"
   ]
  },
  {
   "cell_type": "markdown",
   "id": "f076934c",
   "metadata": {},
   "source": [
    "# 1.3 Chi Squared calculation"
   ]
  },
  {
   "cell_type": "code",
   "execution_count": null,
   "id": "967f0713",
   "metadata": {},
   "outputs": [],
   "source": [
    "#creating a list\n",
    "ap_cp_chi = []\n",
    "\n",
    "#for ap in np.arange(-11.00,-6.01, 0.05):\n",
    "for ap in np.arange(-5.96,-5.88, 0.001):  \n",
    "    \n",
    "    #for cp in np.arange(7.50, 28.01, 0.05):\n",
    "    for cp in np.arange(5.30, 5.44, 0.001):\n",
    "        Chi_Sum = 0\n",
    "\n",
    "        #E = Energy range [GeV]     \n",
    "        for E in np.arange(0.5, 10, 0.5):\n",
    "            #Standard Model\n",
    "            #sum\n",
    "            sum_real_SM = 0\n",
    "            sum_img_SM = 0\n",
    "\n",
    "            for j in range(0,3):\n",
    "                for i in range(0,3):\n",
    "                    if j>i:\n",
    "                        sum_real_SM = sum_real_SM + np.conjugate(mixing_matrix_SM[a][i].real) * mixing_matrix_SM[b][i].real * mixing_matrix_SM[a][j].real * np.conjugate(mixing_matrix_SM[b][j].real) * (np.sin(1.27 * baseline * mass_matrix_SM[j][i]/E))**2\n",
    "                        sum_img_SM = sum_img_SM + np.conjugate(mixing_matrix_SM[a][i].imag) * mixing_matrix_SM[b][i].imag * mixing_matrix_SM[a][j].imag * np.conjugate(mixing_matrix_SM[b][j].imag) * np.sin(1.27 * baseline * mass_matrix_SM[j][i]/E)\n",
    "\n",
    "            #Probility oscilattion (va -> vb)\n",
    "            #(± sign in the third term is the CP violation effect, − for neutrinos and + for anti-neutrinos)\n",
    "            Pab_SM_MM = kdelta - 4 * sum_real_SM - 2 * sum_img_SM\n",
    "           \n",
    "           \n",
    "            #PUMA MODEL\n",
    "            #A = m2/ (2 * E)\n",
    "            B = ap * 1e-19 * E**2\n",
    "            C = cp * 1e-16 * E**5 + 1.2e-22\n",
    "            \n",
    "            #Probility oscilattion (v_muon -> v_muon)\n",
    "            Pvmtovm_Puma = 1 - (np.sin((baseline * B**2 * factor)/(C)))**2\n",
    "            \n",
    "            #print('Puma: ' + str(Pvmtovm_Puma) + ' SM: ' + str(Pab_SM_MM) + ' dif: ' + str(Pab_SM_MM - Pvmtovm_Puma) + ' χ^2_element: ' + str((Pab_SM_MM - Pvmtovm_Puma)**2 / (Pab_SM_MM * 0.1)**2))\n",
    "            \n",
    "            Chi_Sum = Chi_Sum + ((Pab_SM_MM - Pvmtovm_Puma)**2 / (Pab_SM_MM * 0.1)**2)\n",
    "            #print('Value of a = ' + str(ap) + ' Value of c = ' + str(cp) +  ', Energy(GeV) = ' + str(E))\n",
    "        \n",
    "        # print('Value of a = ' + str(ap) + ' Value of c = ' + str(cp) + ' Chi_Squared = ' + str(Chi_Sum))\n",
    "        # print('') \n",
    "    \n",
    "        ap_cp_chi.append((ap,cp,Chi_Sum))\n",
    "    print('Value of a = ' + str(ap))"
   ]
  },
  {
   "cell_type": "markdown",
   "id": "68b05c18",
   "metadata": {},
   "source": [
    "Creating the Dataframe"
   ]
  },
  {
   "cell_type": "code",
   "execution_count": null,
   "id": "f4a8c5c9",
   "metadata": {},
   "outputs": [],
   "source": [
    "df_ap_cp_chi = pd.DataFrame(ap_cp_chi, columns=['a','c', 'Chi_Squared_for_a_c'])"
   ]
  },
  {
   "cell_type": "markdown",
   "id": "7e93d0c3",
   "metadata": {},
   "source": [
    "Adding Delta Chi diference"
   ]
  },
  {
   "cell_type": "code",
   "execution_count": null,
   "id": "52f9430a",
   "metadata": {},
   "outputs": [],
   "source": [
    "delta_chi_ap_cp = []\n",
    "\n",
    "for value in df_ap_cp_chi['Chi_Squared_for_a_c']:\n",
    "    delta_chi_ap_cp.append(value - df_ap_cp_chi['Chi_Squared_for_a_c'].min())\n",
    "    \n",
    "df_ap_cp_chi[\"Delta_Chi\"] = delta_chi_ap_cp"
   ]
  },
  {
   "cell_type": "markdown",
   "id": "6d0de1d2",
   "metadata": {},
   "source": [
    "Viewing the data"
   ]
  },
  {
   "cell_type": "code",
   "execution_count": null,
   "id": "a2a5c077",
   "metadata": {
    "scrolled": true
   },
   "outputs": [],
   "source": [
    "print(df_ap_cp_chi)"
   ]
  },
  {
   "cell_type": "markdown",
   "id": "23134a0a",
   "metadata": {},
   "source": [
    "# 2 -  Graphics Analisys"
   ]
  },
  {
   "cell_type": "markdown",
   "id": "eb752973",
   "metadata": {},
   "source": [
    "# 2.1 - Find the Minimum χ "
   ]
  },
  {
   "cell_type": "markdown",
   "id": "0c908929",
   "metadata": {},
   "source": [
    "Creating filters for maximum Chi values (If you don't want to filter any values add # to this block of code)"
   ]
  },
  {
   "cell_type": "code",
   "execution_count": null,
   "id": "bda47b42",
   "metadata": {
    "scrolled": true
   },
   "outputs": [],
   "source": [
    "filter_ap_cp = df_ap_cp_chi['Delta_Chi'] <= df_ap_cp_chi['Delta_Chi'].min() + 20\n",
    "df_ap_cp_chi = df_ap_cp_chi[filter_ap_cp].reset_index(drop=True)\n",
    "print(df_ap_cp_chi)"
   ]
  },
  {
   "cell_type": "markdown",
   "id": "bcea8e0e",
   "metadata": {},
   "source": [
    "Find the minimum chi value and index in the data."
   ]
  },
  {
   "cell_type": "code",
   "execution_count": null,
   "id": "3c801fc7",
   "metadata": {
    "scrolled": true
   },
   "outputs": [],
   "source": [
    "min_df_ap_cp_chi = df_ap_cp_chi['Delta_Chi'].min()\n",
    "ind_min_df_ap_cp_chi = df_ap_cp_chi['Chi_Squared_for_a_c'].idxmin()\n",
    "df_ap_cp_chi_min = df_ap_cp_chi.iloc[ind_min_df_ap_cp_chi]\n",
    "\n",
    "print(\"Index of Chi Squared minimum: \" + str(ind_min_df_ap_cp_chi))\n",
    "print(\"Value of Chi Squared minimum, a and c\")\n",
    "print(df_ap_cp_chi_min)"
   ]
  },
  {
   "cell_type": "markdown",
   "id": "0ae0b8d8",
   "metadata": {},
   "source": [
    "Excluding χ columns (Working with Δχ)"
   ]
  },
  {
   "cell_type": "code",
   "execution_count": null,
   "id": "6b90ad96",
   "metadata": {},
   "outputs": [],
   "source": [
    "df_ap_cp_chi = df_ap_cp_chi.loc[:, df_ap_cp_chi.columns!='Chi_Squared_for_a_c']\n",
    "print(df_ap_cp_chi)"
   ]
  },
  {
   "cell_type": "markdown",
   "id": "8f328cf3",
   "metadata": {},
   "source": [
    "# 2.2 - Confindence Level Analysis"
   ]
  },
  {
   "cell_type": "code",
   "execution_count": null,
   "id": "ef775f13",
   "metadata": {},
   "outputs": [],
   "source": [
    "#creating the filters\n",
    "one_sigma_ap_cp = df_ap_cp_chi['Delta_Chi'] <= min_df_ap_cp_chi + 2.30\n",
    "two_sigma_ap_cp = df_ap_cp_chi['Delta_Chi'] <= min_df_ap_cp_chi + 4.61\n",
    "three_sigma_ap_cp = df_ap_cp_chi['Delta_Chi'] <= min_df_ap_cp_chi + 5.99\n",
    "four_sigma_ap_cp = df_ap_cp_chi['Delta_Chi'] <= min_df_ap_cp_chi + 6.18\n",
    "five_sigma_ap_cp = df_ap_cp_chi['Delta_Chi'] <= min_df_ap_cp_chi + 9.21\n",
    "six_sigma_ap_cp = df_ap_cp_chi['Delta_Chi'] <= min_df_ap_cp_chi + 11.83\n",
    "\n",
    "#aplying the filters and creating a dataframe with all values\n",
    "df_1_sigma_ap_cp = df_ap_cp_chi[one_sigma_ap_cp]\n",
    "df_2_sigma_ap_cp = df_ap_cp_chi[two_sigma_ap_cp]\n",
    "df_3_sigma_ap_cp = df_ap_cp_chi[three_sigma_ap_cp]\n",
    "df_4_sigma_ap_cp = df_ap_cp_chi[four_sigma_ap_cp]\n",
    "df_5_sigma_ap_cp = df_ap_cp_chi[five_sigma_ap_cp]\n",
    "df_6_sigma_ap_cp = df_ap_cp_chi[six_sigma_ap_cp]"
   ]
  },
  {
   "cell_type": "markdown",
   "id": "2fe5619e",
   "metadata": {},
   "source": [
    "Plot confindence level (\"a\" and \"c\" on axis)"
   ]
  },
  {
   "cell_type": "code",
   "execution_count": null,
   "id": "087c4f75",
   "metadata": {
    "scrolled": true
   },
   "outputs": [],
   "source": [
    "#confidence level regions\n",
    "ax = df_6_sigma_ap_cp.plot(kind='scatter', x='a', y='c', color='y', label= r\"$6\\sigma - 99.93 \\% $\")\n",
    "df_5_sigma_ap_cp.plot(kind='scatter', x='a', y='c', color='m', ax = ax, label= r\"$5\\sigma - 99.00 \\% $\")\n",
    "df_4_sigma_ap_cp.plot(kind='scatter', x='a', y='c', color='c', ax = ax, label= r\"$4\\sigma - 95.45 \\% $\")\n",
    "df_3_sigma_ap_cp.plot(kind='scatter', x='a', y='c', color='r', ax = ax, label= r\"$3\\sigma - 95.00 \\% $\")\n",
    "df_2_sigma_ap_cp.plot(kind='scatter', x='a', y='c', color='g', ax = ax, label= r\"$2\\sigma - 90.00 \\% $\")\n",
    "df_1_sigma_ap_cp.plot(kind='scatter', x='a', y='c', color='k', ax = ax, label= r\"$1\\sigma - 68.27 \\% $\")\n",
    "\n",
    "\n",
    "#Labels of the axis and title\n",
    "ax.set_xlabel(r'a $= (10^{-16})$  [GeV]\\textsuperscript{-4}')\n",
    "ax.set_ylabel(r'c $= (10^{-19})$  [GeV]\\textsuperscript{-1}')\n",
    "ax.set_title('Confindence Level Region')\n",
    "\n",
    "#Place a legend on the axes.\n",
    "ax.legend()\n",
    "\n",
    "plt.show()"
   ]
  },
  {
   "cell_type": "markdown",
   "id": "92a396f1",
   "metadata": {},
   "source": [
    "# 2.3 - 3D surface"
   ]
  },
  {
   "cell_type": "code",
   "execution_count": null,
   "id": "f752c03d",
   "metadata": {},
   "outputs": [],
   "source": [
    "%matplotlib notebook\n",
    "fig = plt.figure(figsize=(7,7))\n",
    "ax = fig.add_subplot(projection='3d')\n",
    "\n",
    "# Plot the surface\n",
    "surf = ax.plot_trisurf(df_1_sigma_ap_cp['a'], df_1_sigma_ap_cp['c'], df_1_sigma_ap_cp['Delta_Chi'], color='k', label= r\"$1\\sigma - 68.27 \\% $\")\n",
    "surf._facecolors2d = surf._facecolor3d \n",
    "surf._edgecolors2d = surf._edgecolor3d\n",
    "\n",
    "surf = ax.plot_trisurf(df_2_sigma_ap_cp['a'], df_2_sigma_ap_cp['c'], df_2_sigma_ap_cp['Delta_Chi'], color='g', label= r\"$2\\sigma - 90.00 \\% $\")\n",
    "surf._facecolors2d = surf._facecolor3d \n",
    "surf._edgecolors2d = surf._edgecolor3d\n",
    "\n",
    "surf = ax.plot_trisurf(df_3_sigma_ap_cp['a'], df_3_sigma_ap_cp['c'], df_3_sigma_ap_cp['Delta_Chi'], color='r', label= r\"$3\\sigma - 95.00 \\% $\")\n",
    "surf._facecolors2d = surf._facecolor3d \n",
    "surf._edgecolors2d = surf._edgecolor3d\n",
    "\n",
    "surf = ax.plot_trisurf(df_4_sigma_ap_cp['a'], df_4_sigma_ap_cp['c'], df_4_sigma_ap_cp['Delta_Chi'], color='c', label= r\"$4\\sigma - 95.45 \\% $\")\n",
    "surf._facecolors2d = surf._facecolor3d \n",
    "surf._edgecolors2d = surf._edgecolor3d\n",
    "\n",
    "\n",
    "surf = ax.plot_trisurf(df_5_sigma_ap_cp['a'], df_5_sigma_ap_cp['c'], df_5_sigma_ap_cp['Delta_Chi'], color='m', label= r\"$5\\sigma - 99.00 \\% $\")\n",
    "surf._facecolors2d = surf._facecolor3d \n",
    "surf._edgecolors2d = surf._edgecolor3d\n",
    "\n",
    "surf = ax.plot_trisurf(df_6_sigma_ap_cp['a'], df_6_sigma_ap_cp['c'], df_6_sigma_ap_cp['Delta_Chi'], color='y', label= r\"$6\\sigma - 99.93 \\% $\")\n",
    "surf._facecolors2d = surf._facecolor3d \n",
    "surf._edgecolors2d = surf._edgecolor3d\n",
    "\n",
    "surf = ax.plot_trisurf(df_ap_cp_chi['a'], df_ap_cp_chi['c'], df_ap_cp_chi['Delta_Chi'], color='b')\n",
    "surf._facecolors2d = surf._facecolor3d \n",
    "surf._edgecolors2d = surf._edgecolor3d\n",
    "\n",
    "#Labels of the axis and title\n",
    "ax.set_xlabel(r'a $= (10^{-16})$  [GeV]\\textsuperscript{-4}')\n",
    "ax.set_ylabel(r'c $= (10^{-19})$  [GeV]\\textsuperscript{-1}')\n",
    "ax.set_zlabel(r'$\\Delta \\chi^2$')\n",
    "ax.set_title(r'$\\Delta \\chi^2 \\times a \\times c$')\n",
    "ax._facecolors2d = ax._facecolor\n",
    "\n",
    "#Place a legend on the axes.\n",
    "ax.legend()\n",
    "\n",
    "#Scale of the axis\n",
    "# ax.set_xscale(\"linear\", \"log\")\n",
    "# ax.set_yscale(\"linear\", \"log\")\n",
    "\n",
    "#Ticks location\n",
    "# ax.xaxis.set_major_locator(plt.MultipleLocator(0.02e-19))\n",
    "# ax.xaxis.set_minor_locator(plt.MultipleLocator(0.01e-19))\n",
    "# ax.yaxis.set_major_locator(plt.MultipleLocator(10))\n",
    "# ax.yaxis.set_minor_locator(plt.MultipleLocator(2))\n",
    "\n",
    "#Axis delimitation region \n",
    "# ax.set_xlim(left= , right= )\n",
    "# ax.set_ylim(left= , right= )\n",
    "\n",
    "plt.show()"
   ]
  },
  {
   "cell_type": "code",
   "execution_count": null,
   "id": "9f1df7a7",
   "metadata": {},
   "outputs": [],
   "source": [
    "#convert dataframe to list\n",
    "df_ap_cp_chi_plot = df_ap_cp_chi.transpose().values.tolist()\n",
    "df_1_sigma_ap_cp_plot = df_1_sigma_ap_cp.transpose().values.tolist()\n",
    "df_2_sigma_ap_cp_plot = df_2_sigma_ap_cp.transpose().values.tolist()\n",
    "df_3_sigma_ap_cp_plot = df_3_sigma_ap_cp.transpose().values.tolist()\n",
    "df_4_sigma_ap_cp_plot = df_4_sigma_ap_cp.transpose().values.tolist()\n",
    "df_5_sigma_ap_cp_plot = df_5_sigma_ap_cp.transpose().values.tolist()\n",
    "df_6_sigma_ap_cp_plot = df_6_sigma_ap_cp.transpose().values.tolist()\n",
    "\n",
    "# Creating figure\n",
    "fig = plt.figure(figsize=(7, 7))\n",
    "ax = plt.axes(projection ='3d')\n",
    " \n",
    "# Creating plot\n",
    "\n",
    "surf = ax.plot_trisurf(df_ap_cp_chi_plot[0], df_ap_cp_chi_plot[1], df_ap_cp_chi_plot[2],zorder=0, linewidth = 0.2, color='b');\n",
    "surf._facecolors2d = surf._facecolor3d \n",
    "surf._edgecolors2d = surf._edgecolor3d\n",
    "\n",
    "surf = ax.plot_trisurf(df_6_sigma_ap_cp_plot[0], df_6_sigma_ap_cp_plot[1], df_6_sigma_ap_cp_plot[2], linewidth = 0.2, antialiased = True, color='y', label= r\"$6\\sigma - 99.93 \\% $\")\n",
    "surf._facecolors2d = surf._facecolor3d \n",
    "surf._edgecolors2d = surf._edgecolor3d\n",
    "\n",
    "surf = ax.plot_trisurf(df_5_sigma_ap_cp_plot[0], df_5_sigma_ap_cp_plot[1], df_5_sigma_ap_cp_plot[2], linewidth = 0.2, antialiased = True, color='m', label= r\"$5\\sigma - 99.00 \\% $\")\n",
    "surf._facecolors2d = surf._facecolor3d \n",
    "surf._edgecolors2d = surf._edgecolor3d\n",
    "\n",
    "surf = ax.plot_trisurf(df_4_sigma_ap_cp_plot[0], df_4_sigma_ap_cp_plot[1], df_4_sigma_ap_cp_plot[2], linewidth = 0.2, antialiased = True, color='c', label= r\"$4\\sigma - 95.45 \\% $\")\n",
    "surf._facecolors2d = surf._facecolor3d \n",
    "surf._edgecolors2d = surf._edgecolor3d\n",
    "\n",
    "surf = ax.plot_trisurf(df_3_sigma_ap_cp_plot[0], df_3_sigma_ap_cp_plot[1], df_3_sigma_ap_cp_plot[2], linewidth = 0.2, antialiased = True, color='r', label= r\"$3\\sigma - 95.00 \\% $\")\n",
    "surf._facecolors2d = surf._facecolor3d \n",
    "surf._edgecolors2d = surf._edgecolor3d\n",
    "\n",
    "surf = ax.plot_trisurf(df_2_sigma_ap_cp_plot[0], df_2_sigma_ap_cp_plot[1], df_2_sigma_ap_cp_plot[2], linewidth = 0.2, antialiased = True, color='g', label= r\"$2\\sigma - 90.00 \\% $\")\n",
    "surf._facecolors2d = surf._facecolor3d \n",
    "surf._edgecolors2d = surf._edgecolor3d\n",
    "\n",
    "surf = ax.plot_trisurf(df_1_sigma_ap_cp_plot[0], df_1_sigma_ap_cp_plot[1], df_1_sigma_ap_cp_plot[2], linewidth = 0.2, antialiased = True, color='k', label= r\"$1\\sigma - 68.27 \\% $\")\n",
    "surf._facecolors2d = surf._facecolor3d \n",
    "surf._edgecolors2d = surf._edgecolor3d\n",
    "\n",
    "\n",
    "\n",
    "#Labels of the axis and title\n",
    "ax.set_xlabel(r'a$(10^{-16})$  [GeV]\\textsuperscript{-4}')\n",
    "ax.set_ylabel(r'c$(10^{-19})$  [GeV]\\textsuperscript{-1}')\n",
    "ax.set_zlabel(r'$\\Delta \\chi^2$')\n",
    "ax.set_title(r'$\\Delta \\chi^2 \\times a \\times c$')\n",
    "\n",
    "\n",
    "#Place a legend on the axes.\n",
    "ax.legend()\n",
    "\n",
    "#Scale of the axis\n",
    "# ax.set_xscale(\"linear\", \"log\")\n",
    "# ax.set_yscale(\"linear\", \"log\")\n",
    "\n",
    "#Ticks location\n",
    "# ax.xaxis.set_major_locator(plt.MultipleLocator(0.02e-19))\n",
    "# ax.xaxis.set_minor_locator(plt.MultipleLocator(0.01e-19))\n",
    "# ax.yaxis.set_major_locator(plt.MultipleLocator(10))\n",
    "# ax.yaxis.set_minor_locator(plt.MultipleLocator(2))\n",
    "\n",
    "#Axis delimitation region \n",
    "# ax.set_xlim(left= , right= )\n",
    "# ax.set_ylim(left= , right= )\n",
    "#ax.set_zlim(0, 40)\n",
    "\n",
    "plt.show()\n",
    "\n",
    "    \n",
    "# show plot\n",
    "plt.show()\n"
   ]
  },
  {
   "cell_type": "markdown",
   "id": "c61cd5a1",
   "metadata": {},
   "source": [
    "Projections of \"a\" for the fixed value of \"c\" associated with the χ^2 minimum"
   ]
  },
  {
   "cell_type": "code",
   "execution_count": null,
   "id": "4a82bf95",
   "metadata": {},
   "outputs": [],
   "source": [
    "#creating a dataframe\n",
    "df_ap_cp_min_chi = df_ap_cp_chi[df_ap_cp_chi['c'] == df_ap_cp_chi_min['c']]\n",
    "\n",
    "#ploting\n",
    "fig, ax = plt.subplots()\n",
    "df_ap_cp_min_chi.plot(kind='line',x='a', y='Delta_Chi',color='k', ax=ax)\n",
    "\n",
    "#Labels of the axis and title\n",
    "ax.set_xlabel(r'a $= (10^{-16})$  [GeV]\\textsuperscript{-4}')\n",
    "ax.set_ylabel(r'$\\Delta \\chi^2$')\n",
    "ax.set_title(r'$\\Delta \\chi^2 \\times a$')\n",
    "\n",
    "\n",
    "plt.show()"
   ]
  },
  {
   "cell_type": "markdown",
   "id": "bce9aee8",
   "metadata": {},
   "source": [
    "Projections of \"c\" for the fixed value of \"\" associated with the χ^2 minimum"
   ]
  },
  {
   "cell_type": "code",
   "execution_count": null,
   "id": "8dca6692",
   "metadata": {},
   "outputs": [],
   "source": [
    "#creating a dataframe\n",
    "df_ap_min_cp_chi = df_ap_cp_chi[df_ap_cp_chi['a'] == df_ap_cp_chi_min['a']]\n",
    "\n",
    "#ploting\n",
    "fig, ax = plt.subplots()\n",
    "df_ap_min_cp_chi.plot(kind='line',x='c', y='Delta_Chi',color='k' , ax=ax)\n",
    "\n",
    "#Labels of the axis and title\n",
    "ax.set_xlabel(r'c $= (10^{-19})$  [GeV]\\textsuperscript{-1}')\n",
    "ax.set_ylabel(r'$\\Delta \\chi^2$')\n",
    "ax.set_title(r'$\\Delta \\chi^2 \\times c$')\n",
    "\n",
    "plt.show()"
   ]
  }
 ],
 "metadata": {
  "kernelspec": {
   "display_name": "Python 3 (ipykernel)",
   "language": "python",
   "name": "python3"
  },
  "language_info": {
   "codemirror_mode": {
    "name": "ipython",
    "version": 3
   },
   "file_extension": ".py",
   "mimetype": "text/x-python",
   "name": "python",
   "nbconvert_exporter": "python",
   "pygments_lexer": "ipython3",
   "version": "3.9.7"
  }
 },
 "nbformat": 4,
 "nbformat_minor": 5
}
